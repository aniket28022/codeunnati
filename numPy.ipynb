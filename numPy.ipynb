{
 "cells": [
  {
   "cell_type": "markdown",
   "id": "6b389d09",
   "metadata": {},
   "source": [
    "# NUMPY"
   ]
  },
  {
   "cell_type": "code",
   "execution_count": 1,
   "id": "d993a08b",
   "metadata": {},
   "outputs": [
    {
     "name": "stdout",
     "output_type": "stream",
     "text": [
      "Requirement already satisfied: numpy in c:\\users\\sap\\anaconda3\\lib\\site-packages (1.21.5)\n",
      "Could not fetch URL https://pypi.org/simple/pip/: There was a problem confirming the ssl certificate: HTTPSConnectionPool(host='pypi.org', port=443): Max retries exceeded with url: /simple/pip/ (Caused by SSLError(SSLCertVerificationError(1, '[SSL: CERTIFICATE_VERIFY_FAILED] certificate verify failed: self signed certificate in certificate chain (_ssl.c:1129)'))) - skipping\n",
      "Note: you may need to restart the kernel to use updated packages.\n"
     ]
    }
   ],
   "source": [
    "pip install numpy"
   ]
  },
  {
   "cell_type": "code",
   "execution_count": 3,
   "id": "988d58da",
   "metadata": {},
   "outputs": [
    {
     "name": "stdout",
     "output_type": "stream",
     "text": [
      "Package                       Version\n",
      "----------------------------- --------------------\n",
      "aiohttp                       3.8.1\n",
      "aiosignal                     1.2.0\n",
      "alabaster                     0.7.12\n",
      "anaconda-client               1.9.0\n",
      "anaconda-navigator            2.1.4\n",
      "anaconda-project              0.10.2\n",
      "anyio                         3.5.0\n",
      "appdirs                       1.4.4\n",
      "argon2-cffi                   21.3.0\n",
      "argon2-cffi-bindings          21.2.0\n",
      "arrow                         1.2.2\n",
      "astroid                       2.6.6\n",
      "astropy                       5.0.4\n",
      "asttokens                     2.0.5\n",
      "async-timeout                 4.0.1\n",
      "atomicwrites                  1.4.0\n",
      "attrs                         21.4.0\n",
      "Automat                       20.2.0\n",
      "autopep8                      1.6.0\n",
      "Babel                         2.9.1\n",
      "backcall                      0.2.0\n",
      "backports.functools-lru-cache 1.6.4\n",
      "backports.tempfile            1.0\n",
      "backports.weakref             1.0.post1\n",
      "bcrypt                        3.2.0\n",
      "beautifulsoup4                4.11.1\n",
      "binaryornot                   0.4.4\n",
      "bitarray                      2.4.1\n",
      "bkcharts                      0.2\n",
      "black                         19.10b0\n",
      "bleach                        4.1.0\n",
      "bokeh                         2.4.2Note: you may need to restart the kernel to use updated packages.\n",
      "boto3                         1.21.32\n",
      "botocore                      1.24.32\n",
      "Bottleneck                    1.3.4\n",
      "brotlipy                      0.7.0\n",
      "cachetools                    4.2.2\n",
      "certifi                       2021.10.8\n",
      "cffi                          1.15.0\n",
      "chardet                       4.0.0\n",
      "charset-normalizer            2.0.4\n",
      "click                         8.0.4\n",
      "cloudpickle                   2.0.0\n",
      "\n",
      "clyent                        1.2.2\n",
      "colorama                      0.4.4\n",
      "colorcet                      2.0.6\n",
      "comtypes                      1.1.10\n",
      "conda                         4.12.0\n",
      "conda-build                   3.21.8\n",
      "conda-content-trust           0+unknown\n",
      "conda-pack                    0.6.0\n",
      "conda-package-handling        1.8.1\n",
      "conda-repo-cli                1.0.4\n",
      "conda-token                   0.3.0\n",
      "conda-verify                  3.4.2\n",
      "constantly                    15.1.0\n",
      "cookiecutter                  1.7.3\n",
      "cryptography                  3.4.8\n",
      "cssselect                     1.1.0\n",
      "cycler                        0.11.0\n",
      "Cython                        0.29.28\n",
      "cytoolz                       0.11.0\n",
      "daal4py                       2021.5.0\n",
      "dask                          2022.2.1\n",
      "datashader                    0.13.0\n",
      "datashape                     0.5.4\n",
      "debugpy                       1.5.1\n",
      "decorator                     5.1.1\n",
      "defusedxml                    0.7.1\n",
      "diff-match-patch              20200713\n",
      "distributed                   2022.2.1\n",
      "docutils                      0.17.1\n",
      "entrypoints                   0.4\n",
      "et-xmlfile                    1.1.0\n",
      "executing                     0.8.3\n",
      "fastjsonschema                2.15.1\n",
      "filelock                      3.6.0\n",
      "flake8                        3.9.2\n",
      "Flask                         1.1.2\n",
      "fonttools                     4.25.0\n",
      "frozenlist                    1.2.0\n",
      "fsspec                        2022.2.0\n",
      "future                        0.18.2\n",
      "gensim                        4.1.2\n",
      "glob2                         0.7\n",
      "google-api-core               1.25.1\n",
      "google-auth                   1.33.0\n",
      "google-cloud-core             1.7.1\n",
      "google-cloud-storage          1.31.0\n",
      "google-crc32c                 1.1.2\n",
      "google-resumable-media        1.3.1\n",
      "googleapis-common-protos      1.53.0\n",
      "greenlet                      1.1.1\n",
      "grpcio                        1.42.0\n",
      "h5py                          3.6.0\n",
      "HeapDict                      1.0.1\n",
      "holoviews                     1.14.8\n",
      "hvplot                        0.7.3\n",
      "hyperlink                     21.0.0\n",
      "idna                          3.3\n",
      "imagecodecs                   2021.8.26\n",
      "imageio                       2.9.0\n",
      "imagesize                     1.3.0\n",
      "importlib-metadata            4.11.3\n",
      "incremental                   21.3.0\n",
      "inflection                    0.5.1\n",
      "iniconfig                     1.1.1\n",
      "intake                        0.6.5\n",
      "intervaltree                  3.1.0\n",
      "ipykernel                     6.9.1\n",
      "ipython                       8.2.0\n",
      "ipython-genutils              0.2.0\n",
      "ipywidgets                    7.6.5\n",
      "isort                         5.9.3\n",
      "itemadapter                   0.3.0\n",
      "itemloaders                   1.0.4\n",
      "itsdangerous                  2.0.1\n",
      "jdcal                         1.4.1\n",
      "jedi                          0.18.1\n",
      "Jinja2                        2.11.3\n",
      "jinja2-time                   0.2.0\n",
      "jmespath                      0.10.0\n",
      "joblib                        1.1.0\n",
      "json5                         0.9.6\n",
      "jsonschema                    4.4.0\n",
      "jupyter                       1.0.0\n",
      "jupyter-client                6.1.12\n",
      "jupyter-console               6.4.0\n",
      "jupyter-core                  4.9.2\n",
      "jupyter-server                1.13.5\n",
      "jupyterlab                    3.3.2\n",
      "jupyterlab-pygments           0.1.2\n",
      "jupyterlab-server             2.10.3\n",
      "jupyterlab-widgets            1.0.0\n",
      "keyring                       23.4.0\n",
      "kiwisolver                    1.3.2\n",
      "lazy-object-proxy             1.6.0\n",
      "libarchive-c                  2.9\n",
      "llvmlite                      0.38.0\n",
      "locket                        0.2.1\n",
      "lxml                          4.8.0\n",
      "Markdown                      3.3.4\n",
      "MarkupSafe                    2.0.1\n",
      "matplotlib                    3.5.1\n",
      "matplotlib-inline             0.1.2\n",
      "mccabe                        0.6.1\n",
      "menuinst                      1.4.18\n",
      "mistune                       0.8.4\n",
      "mkl-fft                       1.3.1\n",
      "mkl-random                    1.2.2\n",
      "mkl-service                   2.4.0\n",
      "mock                          4.0.3\n",
      "mpmath                        1.2.1\n",
      "msgpack                       1.0.2\n",
      "multidict                     5.1.0\n",
      "multipledispatch              0.6.0\n",
      "munkres                       1.1.4\n",
      "mypy-extensions               0.4.3\n",
      "navigator-updater             0.2.1\n",
      "nbclassic                     0.3.5\n",
      "nbclient                      0.5.13\n",
      "nbconvert                     6.4.4\n",
      "nbformat                      5.3.0\n",
      "nest-asyncio                  1.5.5\n",
      "networkx                      2.7.1\n",
      "nltk                          3.7\n",
      "nose                          1.3.7\n",
      "notebook                      6.4.8\n",
      "numba                         0.55.1\n",
      "numexpr                       2.8.1\n",
      "numpy                         1.21.5\n",
      "numpydoc                      1.2\n",
      "olefile                       0.46\n",
      "openpyxl                      3.0.9\n",
      "packaging                     21.3\n",
      "pandas                        1.4.2\n",
      "pandocfilters                 1.5.0\n",
      "panel                         0.13.0\n",
      "param                         1.12.0\n",
      "paramiko                      2.8.1\n",
      "parsel                        1.6.0\n",
      "parso                         0.8.3\n",
      "partd                         1.2.0\n",
      "pathspec                      0.7.0\n",
      "patsy                         0.5.2\n",
      "pep8                          1.7.1\n",
      "pexpect                       4.8.0\n",
      "pickleshare                   0.7.5\n",
      "Pillow                        9.0.1\n",
      "pip                           21.2.4\n",
      "pkginfo                       1.8.2\n",
      "plotly                        5.6.0\n",
      "pluggy                        1.0.0\n",
      "poyo                          0.5.0\n",
      "prometheus-client             0.13.1\n",
      "prompt-toolkit                3.0.20\n",
      "Protego                       0.1.16\n",
      "protobuf                      3.19.1\n",
      "psutil                        5.8.0\n",
      "ptyprocess                    0.7.0\n",
      "pure-eval                     0.2.2\n",
      "py                            1.11.0\n",
      "pyasn1                        0.4.8\n",
      "pyasn1-modules                0.2.8\n",
      "pycodestyle                   2.7.0\n",
      "pycosat                       0.6.3\n",
      "pycparser                     2.21\n",
      "pyct                          0.4.6\n",
      "pycurl                        7.44.1\n",
      "PyDispatcher                  2.0.5\n",
      "pydocstyle                    6.1.1\n",
      "pyerfa                        2.0.0\n",
      "pyflakes                      2.3.1\n",
      "Pygments                      2.11.2\n",
      "PyHamcrest                    2.0.2\n",
      "PyJWT                         2.1.0\n",
      "pylint                        2.9.6\n",
      "pyls-spyder                   0.4.0\n",
      "PyNaCl                        1.4.0\n",
      "pyodbc                        4.0.32\n",
      "pyOpenSSL                     21.0.0\n",
      "pyparsing                     3.0.4\n",
      "pyreadline                    2.1\n",
      "pyrsistent                    0.18.0\n",
      "PySocks                       1.7.1\n",
      "pytest                        7.1.1\n",
      "python-dateutil               2.8.2\n",
      "python-lsp-black              1.0.0\n",
      "python-lsp-jsonrpc            1.0.0\n",
      "python-lsp-server             1.2.4\n",
      "python-slugify                5.0.2\n",
      "python-snappy                 0.6.0\n",
      "pytz                          2021.3\n",
      "pyviz-comms                   2.0.2\n",
      "PyWavelets                    1.3.0\n",
      "pywin32                       302\n",
      "pywin32-ctypes                0.2.0\n",
      "pywinpty                      2.0.2\n",
      "PyYAML                        6.0\n",
      "pyzmq                         22.3.0\n",
      "QDarkStyle                    3.0.2\n",
      "qstylizer                     0.1.10\n",
      "QtAwesome                     1.0.3\n",
      "qtconsole                     5.3.0\n",
      "QtPy                          2.0.1\n",
      "queuelib                      1.5.0\n",
      "regex                         2022.3.15\n",
      "requests                      2.27.1\n",
      "requests-file                 1.5.1\n",
      "rope                          0.22.0\n",
      "rsa                           4.7.2\n",
      "Rtree                         0.9.7\n",
      "ruamel-yaml-conda             0.15.100\n",
      "s3transfer                    0.5.0\n",
      "scikit-image                  0.19.2\n",
      "scikit-learn                  1.0.2\n",
      "scikit-learn-intelex          2021.20220215.102710\n",
      "scipy                         1.7.3\n",
      "Scrapy                        2.6.1\n",
      "seaborn                       0.11.2\n",
      "Send2Trash                    1.8.0\n",
      "service-identity              18.1.0\n",
      "setuptools                    61.2.0\n",
      "sip                           4.19.13\n",
      "six                           1.16.0\n",
      "smart-open                    5.1.0\n",
      "sniffio                       1.2.0\n",
      "snowballstemmer               2.2.0\n",
      "sortedcollections             2.1.0\n",
      "sortedcontainers              2.4.0\n",
      "soupsieve                     2.3.1\n",
      "Sphinx                        4.4.0\n",
      "sphinxcontrib-applehelp       1.0.2\n",
      "sphinxcontrib-devhelp         1.0.2\n",
      "sphinxcontrib-htmlhelp        2.0.0\n",
      "sphinxcontrib-jsmath          1.0.1\n",
      "sphinxcontrib-qthelp          1.0.3\n",
      "sphinxcontrib-serializinghtml 1.1.5\n",
      "spyder                        5.1.5\n",
      "spyder-kernels                2.1.3\n",
      "SQLAlchemy                    1.4.32\n",
      "stack-data                    0.2.0\n",
      "statsmodels                   0.13.2\n",
      "sympy                         1.10.1\n",
      "tables                        3.6.1\n",
      "tabulate                      0.8.9\n",
      "TBB                           0.2\n",
      "tblib                         1.7.0\n",
      "tenacity                      8.0.1\n",
      "terminado                     0.13.1\n",
      "testpath                      0.5.0\n",
      "text-unidecode                1.3\n",
      "textdistance                  4.2.1\n",
      "threadpoolctl                 2.2.0\n",
      "three-merge                   0.1.1\n",
      "tifffile                      2021.7.2\n",
      "tinycss                       0.4\n",
      "tldextract                    3.2.0\n",
      "toml                          0.10.2\n",
      "tomli                         1.2.2\n",
      "toolz                         0.11.2\n",
      "tornado                       6.1\n",
      "tqdm                          4.64.0\n",
      "traitlets                     5.1.1\n",
      "Twisted                       22.2.0\n",
      "twisted-iocpsupport           1.0.2\n",
      "typed-ast                     1.4.3\n",
      "typing_extensions             4.1.1\n",
      "ujson                         5.1.0\n",
      "Unidecode                     1.2.0\n",
      "urllib3                       1.26.9\n",
      "w3lib                         1.21.0\n",
      "watchdog                      2.1.6\n",
      "wcwidth                       0.2.5\n",
      "webencodings                  0.5.1\n",
      "websocket-client              0.58.0\n",
      "Werkzeug                      2.0.3\n",
      "wheel                         0.37.1\n",
      "widgetsnbextension            3.5.2\n",
      "win-inet-pton                 1.1.0\n",
      "win-unicode-console           0.5\n",
      "wincertstore                  0.2\n",
      "wrapt                         1.12.1\n",
      "xarray                        0.20.1\n",
      "xlrd                          2.0.1\n",
      "XlsxWriter                    3.0.3\n",
      "xlwings                       0.24.9\n",
      "yapf                          0.31.0\n",
      "yarl                          1.6.3\n",
      "zict                          2.0.0\n",
      "zipp                          3.7.0\n",
      "zope.interface                5.4.0\n",
      "Could not fetch URL https://pypi.org/simple/pip/: There was a problem confirming the ssl certificate: HTTPSConnectionPool(host='pypi.org', port=443): Max retries exceeded with url: /simple/pip/ (Caused by SSLError(SSLCertVerificationError(1, '[SSL: CERTIFICATE_VERIFY_FAILED] certificate verify failed: self signed certificate in certificate chain (_ssl.c:1129)'))) - skipping\n"
     ]
    }
   ],
   "source": [
    "pip list"
   ]
  },
  {
   "cell_type": "code",
   "execution_count": 11,
   "id": "2361adb8",
   "metadata": {},
   "outputs": [
    {
     "name": "stdout",
     "output_type": "stream",
     "text": [
      "Collecting package metadata (current_repodata.json): ...working... failed\n",
      "\n",
      "Note: you may need to restart the kernel to use updated packages.\n"
     ]
    },
    {
     "name": "stderr",
     "output_type": "stream",
     "text": [
      "\n",
      "CondaHTTPError: HTTP 000 CONNECTION FAILED for url <https://repo.anaconda.com/pkgs/main/win-64/current_repodata.json>\n",
      "Elapsed: -\n",
      "\n",
      "An HTTP error occurred when trying to retrieve this URL.\n",
      "HTTP errors are often intermittent, and a simple retry will get you on your way.\n",
      "\n",
      "If your current network has https://www.anaconda.com blocked, please file\n",
      "a support request with your network engineering team.\n",
      "\n",
      "'https://repo.anaconda.com/pkgs/main/win-64'\n",
      "\n",
      "\n"
     ]
    }
   ],
   "source": [
    "conda install numpy"
   ]
  },
  {
   "cell_type": "code",
   "execution_count": 17,
   "id": "e5e03cab",
   "metadata": {},
   "outputs": [],
   "source": [
    "import numpy as ntc"
   ]
  },
  {
   "cell_type": "code",
   "execution_count": 18,
   "id": "6b8bc03b",
   "metadata": {},
   "outputs": [
    {
     "name": "stdout",
     "output_type": "stream",
     "text": [
      "1.21.5\n"
     ]
    }
   ],
   "source": [
    "print (ntc.__version__)\n"
   ]
  },
  {
   "cell_type": "code",
   "execution_count": 19,
   "id": "563e8250",
   "metadata": {},
   "outputs": [
    {
     "data": {
      "text/plain": [
       "array([ 1,  2,  3,  4,  5,  6,  7,  8,  9, 10])"
      ]
     },
     "execution_count": 19,
     "metadata": {},
     "output_type": "execute_result"
    }
   ],
   "source": [
    "arr= np.array([1,2,3,4,5,6,7,8,9,10])\n",
    "arr"
   ]
  },
  {
   "cell_type": "code",
   "execution_count": 22,
   "id": "c1148021",
   "metadata": {},
   "outputs": [
    {
     "name": "stdout",
     "output_type": "stream",
     "text": [
      "<class 'numpy.ndarray'>\n"
     ]
    }
   ],
   "source": [
    "print(type(arr))"
   ]
  },
  {
   "cell_type": "code",
   "execution_count": 23,
   "id": "917d9e0b",
   "metadata": {},
   "outputs": [
    {
     "name": "stdout",
     "output_type": "stream",
     "text": [
      "1\n"
     ]
    }
   ],
   "source": [
    "print (np.amin(arr))"
   ]
  },
  {
   "cell_type": "code",
   "execution_count": 24,
   "id": "75f4e63d",
   "metadata": {},
   "outputs": [
    {
     "name": "stdout",
     "output_type": "stream",
     "text": [
      "10\n"
     ]
    }
   ],
   "source": [
    "print (np.amax(arr))"
   ]
  },
  {
   "cell_type": "code",
   "execution_count": 26,
   "id": "9a8f83d2",
   "metadata": {},
   "outputs": [
    {
     "name": "stdout",
     "output_type": "stream",
     "text": [
      "5.5\n"
     ]
    }
   ],
   "source": [
    "print (np.mean(arr))"
   ]
  },
  {
   "cell_type": "code",
   "execution_count": 27,
   "id": "ea4a28b2",
   "metadata": {},
   "outputs": [
    {
     "name": "stdout",
     "output_type": "stream",
     "text": [
      "5.5\n"
     ]
    }
   ],
   "source": [
    "print (np.median(arr))"
   ]
  },
  {
   "cell_type": "code",
   "execution_count": 28,
   "id": "255cff6c",
   "metadata": {},
   "outputs": [
    {
     "name": "stdout",
     "output_type": "stream",
     "text": [
      "9\n"
     ]
    }
   ],
   "source": [
    "print (np.ptp(arr))"
   ]
  },
  {
   "cell_type": "code",
   "execution_count": 29,
   "id": "ec69746d",
   "metadata": {},
   "outputs": [
    {
     "name": "stdout",
     "output_type": "stream",
     "text": [
      "2.8722813232690143\n"
     ]
    }
   ],
   "source": [
    "print (np.std(arr))"
   ]
  },
  {
   "cell_type": "code",
   "execution_count": 30,
   "id": "7bb4729f",
   "metadata": {},
   "outputs": [
    {
     "name": "stdout",
     "output_type": "stream",
     "text": [
      "8.25\n"
     ]
    }
   ],
   "source": [
    "print (np.var(arr))"
   ]
  },
  {
   "cell_type": "code",
   "execution_count": 31,
   "id": "4206f06a",
   "metadata": {},
   "outputs": [
    {
     "name": "stdout",
     "output_type": "stream",
     "text": [
      "5.5\n"
     ]
    }
   ],
   "source": [
    "print (np.average(arr))"
   ]
  },
  {
   "cell_type": "code",
   "execution_count": 48,
   "id": "2b26f2de",
   "metadata": {},
   "outputs": [
    {
     "name": "stdout",
     "output_type": "stream",
     "text": [
      "1.45\n"
     ]
    }
   ],
   "source": [
    "print (np.percentile(arr,5))"
   ]
  },
  {
   "cell_type": "markdown",
   "id": "baaddc85",
   "metadata": {},
   "source": [
    "# Numpy numerical python  "
   ]
  },
  {
   "cell_type": "code",
   "execution_count": 55,
   "id": "adc47b99",
   "metadata": {},
   "outputs": [
    {
     "data": {
      "text/plain": [
       "array([[ 1,  2,  3,  4,  5],\n",
       "       [ 6,  7,  8,  9, 10]])"
      ]
     },
     "execution_count": 55,
     "metadata": {},
     "output_type": "execute_result"
    }
   ],
   "source": [
    "arr = np.array([[1,2,3,4,5],[6,7,8,9,10]])\n",
    "arr"
   ]
  },
  {
   "cell_type": "code",
   "execution_count": 56,
   "id": "123a9de4",
   "metadata": {},
   "outputs": [
    {
     "name": "stdout",
     "output_type": "stream",
     "text": [
      "2\n"
     ]
    }
   ],
   "source": [
    "#diamensoin of the array\n",
    "\n",
    "print(arr.ndim)"
   ]
  },
  {
   "cell_type": "code",
   "execution_count": 58,
   "id": "e4336335",
   "metadata": {},
   "outputs": [
    {
     "name": "stdout",
     "output_type": "stream",
     "text": [
      "(2, 5)\n"
     ]
    }
   ],
   "source": [
    "#shape of the array\n",
    "\n",
    "print(arr.shape)"
   ]
  },
  {
   "cell_type": "code",
   "execution_count": 59,
   "id": "be555cbe",
   "metadata": {},
   "outputs": [
    {
     "name": "stdout",
     "output_type": "stream",
     "text": [
      "<class 'numpy.ndarray'>\n"
     ]
    }
   ],
   "source": [
    "#diamensoin of the array\n",
    "\n",
    "print(type(arr))"
   ]
  },
  {
   "cell_type": "code",
   "execution_count": 60,
   "id": "cede27af",
   "metadata": {},
   "outputs": [
    {
     "name": "stdout",
     "output_type": "stream",
     "text": [
      "<memory at 0x000001FC00C221E0>\n"
     ]
    }
   ],
   "source": [
    "#diamensoin of the array\n",
    "\n",
    "print(arr.data)"
   ]
  },
  {
   "cell_type": "markdown",
   "id": "34823e80",
   "metadata": {},
   "source": [
    "# # Random number generator using numpy"
   ]
  },
  {
   "cell_type": "code",
   "execution_count": 80,
   "id": "37d4d949",
   "metadata": {},
   "outputs": [
    {
     "name": "stdout",
     "output_type": "stream",
     "text": [
      "9\n"
     ]
    }
   ],
   "source": [
    "from numpy import random\n",
    "x= random.randint(100)\n",
    "print(x)"
   ]
  },
  {
   "cell_type": "code",
   "execution_count": 78,
   "id": "7850ee2c",
   "metadata": {},
   "outputs": [
    {
     "name": "stdout",
     "output_type": "stream",
     "text": [
      "[0.92741741 0.02034876 0.87740481 0.95465202 0.87582195 0.2191903\n",
      " 0.13819433 0.43938424 0.64432678 0.41565665 0.42667247 0.41500884\n",
      " 0.69822462 0.5883023  0.16179951 0.16919539 0.5354816  0.3402453\n",
      " 0.52134239 0.58141659 0.36295717 0.79481951 0.14655423 0.81228585\n",
      " 0.79394433 0.25352346 0.94604241 0.40136369 0.42501061 0.62827943\n",
      " 0.6086068  0.44015405 0.57611016 0.80673237 0.63024778 0.6978589\n",
      " 0.27916956 0.23671095 0.41161319 0.62286328 0.33790673 0.63442381\n",
      " 0.58952215 0.44140373 0.0642242  0.05020656 0.05150218 0.08694142\n",
      " 0.31350591 0.02943608 0.67608661 0.21539833 0.99208203 0.99535405\n",
      " 0.52954602 0.08172928 0.64092837 0.58523199 0.13926505 0.62400971\n",
      " 0.28938426 0.21232907 0.59150604 0.54034867 0.88487696 0.78522413\n",
      " 0.02788093 0.83186708 0.09687731 0.17611222 0.97402292 0.72562113\n",
      " 0.72289748 0.37414835 0.53702384 0.05589629 0.81634938 0.28918524\n",
      " 0.261575   0.92026351 0.96079247 0.67509677 0.33739586 0.25904635\n",
      " 0.70477003 0.78070836 0.37563869 0.03322972 0.34070962 0.51577011\n",
      " 0.44251211 0.32254637 0.2149291  0.527121   0.74507629 0.28919396\n",
      " 0.44925685 0.56553247 0.08556827 0.48061778]\n"
     ]
    }
   ],
   "source": [
    "#generate random float\n",
    "\n",
    "x = random.rand(100)\n",
    "print(x)"
   ]
  },
  {
   "cell_type": "code",
   "execution_count": 89,
   "id": "fbc6b358",
   "metadata": {},
   "outputs": [
    {
     "name": "stdout",
     "output_type": "stream",
     "text": [
      "[27 75 21 20 54 48 79 53 11 36]\n"
     ]
    }
   ],
   "source": [
    "#generate random array\n",
    "\n",
    "\n",
    "from numpy import random\n",
    "x= random.randint(100,size=(10))\n",
    "print(x)"
   ]
  },
  {
   "cell_type": "code",
   "execution_count": 93,
   "id": "3bf7e823",
   "metadata": {},
   "outputs": [
    {
     "name": "stdout",
     "output_type": "stream",
     "text": [
      "[[86 82 62 91 17 11 30 29 88 85 76 18 22 44 70 63 24 27 51 20 33 70 28 92\n",
      "  25]\n",
      " [19 57 84 92 26 56 64 58 72 40 26 43 18 91 78 19 54 10 53 37 59 10 18 94\n",
      "   8]\n",
      " [10 15 92  8 39 44 35 69  9 87 17 83 71  6 65 82 20 40 38 43 34 24 37 70\n",
      "  92]\n",
      " [88 67 24 95 54 30 82 76 50 82 31 16 82 15 23  7 74 24 33 12 38 42 24  9\n",
      "  88]\n",
      " [79 87 19 37 90 77 65 85 43 92 91 17 26 40 86 60 17 37 25 34  2  8 92 33\n",
      "  10]\n",
      " [64 30 93 95 20 92 68 88 60 61 19 49 31 31 12 60 63 57 54 48 35 38 59 57\n",
      "  90]\n",
      " [42  0 86 64 52 24 96 58 86 16 21  5 78 96 48  0 33 21  8 87  2 11 92  0\n",
      "  83]\n",
      " [11 46 93 20 34 59 19 41 29 90 56 52  8 84 10 59 19 50 56 28 20 97  8 18\n",
      "  36]\n",
      " [27 82 52 28 26 58 82  3 85 71 59 22 93 64 29 55 29 56 58 28 75 45 46 85\n",
      "  37]\n",
      " [ 7 72 94  2 50 64 23  1 59 15 34 29 79 28 45 13 15 72 86 97 40 23 40 71\n",
      "  14]]\n"
     ]
    }
   ],
   "source": [
    "#generate random array\n",
    "\n",
    "\n",
    "from numpy import random\n",
    "x= random.randint(100,size=(10,25))\n",
    "print(x)"
   ]
  },
  {
   "cell_type": "code",
   "execution_count": 94,
   "id": "a6fa5e1f",
   "metadata": {},
   "outputs": [
    {
     "name": "stdout",
     "output_type": "stream",
     "text": [
      "[[95 11 81 70 63 87 75  9 77 40  4 63 40 60 92 64  5 12 93 40 49 83  8 29\n",
      "  59]\n",
      " [34 44 72 19 10 76 95 87  0 73  8 62 36 83 99 28 63  7 10 52 56 38 73 52\n",
      "  18]\n",
      " [71 15 44  0 12 17 75 79 97 93 24 36 63 19 35 30 10 60 20 27  8 86 26 87\n",
      "  46]\n",
      " [47 54 86  9 45  2 18 58 92 11 10 94 35 28  3 83 84 47 14 69 60 69 51  6\n",
      "  88]\n",
      " [71 68 23 35 79 98 67 82 57 77 46  3 46 29 86 21 21 81 23 94 71 20 27 75\n",
      "   5]\n",
      " [49 86 89 63 82 77  3 56 14 49 87 52 13 47 49 24 20 64 52 60 47 29 60 53\n",
      "  11]\n",
      " [40 91 45 97 24 36 38  9 52 67 43  1 79 68 68 61 18 51 14 28 17 87 46 52\n",
      "  16]\n",
      " [70 71 84 10 62 96 57 23 86 85 26 76 66 54 17 65 57 89  2 80 50 66 88 79\n",
      "  93]\n",
      " [ 6 92 42 22 20 25 97 54 71 72 80 93 64 63 80 38 45 35 25 95 75 72 11 76\n",
      "  79]\n",
      " [50 22 59 66  1 34 37 57 35 42 44 49 31 79 85  3 55 73 93 94 99 40 54 88\n",
      "  94]]\n"
     ]
    }
   ],
   "source": [
    "from numpy import random\n",
    "random.seed(101)\n",
    "x= random.randint(100,size=(10,25))\n",
    "print(x)"
   ]
  },
  {
   "cell_type": "code",
   "execution_count": 95,
   "id": "8bfd5155",
   "metadata": {},
   "outputs": [
    {
     "name": "stdout",
     "output_type": "stream",
     "text": [
      "[[95 11 81 70 63 87 75  9 77 40  4 63 40 60 92 64  5 12 93 40 49 83  8 29\n",
      "  59]\n",
      " [34 44 72 19 10 76 95 87  0 73  8 62 36 83 99 28 63  7 10 52 56 38 73 52\n",
      "  18]\n",
      " [71 15 44  0 12 17 75 79 97 93 24 36 63 19 35 30 10 60 20 27  8 86 26 87\n",
      "  46]\n",
      " [47 54 86  9 45  2 18 58 92 11 10 94 35 28  3 83 84 47 14 69 60 69 51  6\n",
      "  88]\n",
      " [71 68 23 35 79 98 67 82 57 77 46  3 46 29 86 21 21 81 23 94 71 20 27 75\n",
      "   5]\n",
      " [49 86 89 63 82 77  3 56 14 49 87 52 13 47 49 24 20 64 52 60 47 29 60 53\n",
      "  11]\n",
      " [40 91 45 97 24 36 38  9 52 67 43  1 79 68 68 61 18 51 14 28 17 87 46 52\n",
      "  16]\n",
      " [70 71 84 10 62 96 57 23 86 85 26 76 66 54 17 65 57 89  2 80 50 66 88 79\n",
      "  93]\n",
      " [ 6 92 42 22 20 25 97 54 71 72 80 93 64 63 80 38 45 35 25 95 75 72 11 76\n",
      "  79]\n",
      " [50 22 59 66  1 34 37 57 35 42 44 49 31 79 85  3 55 73 93 94 99 40 54 88\n",
      "  94]]\n"
     ]
    }
   ],
   "source": [
    "from numpy import random\n",
    "random.seed(101)\n",
    "x= random.randint(100,size=(10,25))\n",
    "print(x)"
   ]
  },
  {
   "cell_type": "code",
   "execution_count": 102,
   "id": "a251fcd4",
   "metadata": {
    "scrolled": true
   },
   "outputs": [
    {
     "name": "stdout",
     "output_type": "stream",
     "text": [
      "Horizontal vector\n",
      "[1 2 3]\n",
      "-------------------\n",
      "vertical vector\n",
      "[[10]\n",
      " [20]\n",
      " [30]]\n",
      "-------------------\n"
     ]
    }
   ],
   "source": [
    "#import numpy\n",
    "\n",
    "import numpy as np\n",
    "#creating 1-D LIST \n",
    "list1 = [1,2,3]    \n",
    "   \n",
    "#creating 1_D List vertical\n",
    "list2 = [[10],\n",
    "        [20],\n",
    "        [30]]\n",
    "\n",
    "vector1 = np.array(list1)\n",
    "vector2 = np.array(list2)\n",
    "\n",
    "print(\"Horizontal vector\")\n",
    "print(vector1)\n",
    "\n",
    "print(\"-------------------\")\n",
    "\n",
    "print(\"vertical vector\")\n",
    "print(vector2)\n",
    "\n",
    "print(\"-------------------\")"
   ]
  },
  {
   "cell_type": "code",
   "execution_count": 104,
   "id": "fa363767",
   "metadata": {},
   "outputs": [
    {
     "name": "stdout",
     "output_type": "stream",
     "text": [
      "via string input : \n",
      " [[1 2]\n",
      " [3 4]] \n",
      "\n",
      "\n",
      "via array-like input :\n",
      " [[list([5, 6, 7]) list([4, 6])]]\n"
     ]
    }
   ],
   "source": [
    "a= np.matrix ('1 2 ; 3 4')\n",
    "print ( \"via string input : \\n\" , a, \"\\n\\n\")\n",
    "b= np.matrix([[5,6,7], [4,6]])\n",
    "print(\"via array-like input :\\n\", b)"
   ]
  },
  {
   "cell_type": "markdown",
   "id": "24de1d9f",
   "metadata": {},
   "source": [
    "# # practical"
   ]
  },
  {
   "cell_type": "code",
   "execution_count": 105,
   "id": "5dd4cdf0",
   "metadata": {},
   "outputs": [
    {
     "name": "stdout",
     "output_type": "stream",
     "text": [
      "[[30 35]\n",
      " [40 45]]\n"
     ]
    }
   ],
   "source": [
    "a = 5\n",
    "\n",
    "b = [[6,7],\n",
    "     [8,9]]\n",
    "\n",
    "print(np.dot(a,b))\n"
   ]
  },
  {
   "cell_type": "code",
   "execution_count": 108,
   "id": "c1cf65c9",
   "metadata": {},
   "outputs": [
    {
     "name": "stdout",
     "output_type": "stream",
     "text": [
      "[[40 53]\n",
      " [52 69]]\n",
      "-------------------\n",
      "[[36 41]\n",
      " [64 73]]\n"
     ]
    }
   ],
   "source": [
    "a = [[6,7],\n",
    "    [8,9]]\n",
    "\n",
    "b = [[2,3],\n",
    "    [4,5]]\n",
    "print(np.dot(a,b))\n",
    "print(\"-------------------\")\n",
    "print(np.dot(b,a))"
   ]
  },
  {
   "cell_type": "code",
   "execution_count": 114,
   "id": "675262a1",
   "metadata": {},
   "outputs": [
    {
     "name": "stdout",
     "output_type": "stream",
     "text": [
      "[[1600 2100]\n",
      " [5200 6900]]\n",
      "-------------------\n",
      "[[2800 3300]\n",
      " [4800 5700]]\n"
     ]
    }
   ],
   "source": [
    "a = [[20,30],\n",
    "    [80,90]]\n",
    "\n",
    "b = [[20,30],\n",
    "    [40,50]]\n",
    "print(np.dot(a,b))\n",
    "print(\"-------------------\")\n",
    "print(np.dot(b,a))"
   ]
  },
  {
   "cell_type": "code",
   "execution_count": 120,
   "id": "97575103",
   "metadata": {},
   "outputs": [
    {
     "data": {
      "text/plain": [
       "array([[1, 4, 7],\n",
       "       [2, 5, 8],\n",
       "       [3, 6, 9]])"
      ]
     },
     "execution_count": 120,
     "metadata": {},
     "output_type": "execute_result"
    }
   ],
   "source": [
    "A= ([1,2,3],[4,5,6],[7,8,9,])\n",
    "np.transpose(A)\n"
   ]
  },
  {
   "cell_type": "markdown",
   "id": "471ceaee",
   "metadata": {},
   "source": [
    "# #%%%%%\n"
   ]
  },
  {
   "cell_type": "code",
   "execution_count": 3,
   "id": "56b77796",
   "metadata": {},
   "outputs": [
    {
     "name": "stdout",
     "output_type": "stream",
     "text": [
      "26.0 \n",
      "\n",
      "43.5 \n",
      "\n",
      "IQR = Q3-Q1 = 17.5\n"
     ]
    }
   ],
   "source": [
    "import numpy as np\n",
    "data = [12,13,15,70,74,72,10,20,32,1665,33,562,520,54,21,13,116,463,0,3]\n",
    " #first \n",
    "Q1 = np.median(data[:10])\n",
    "print(Q1,'\\n')\n",
    "#third\n",
    "Q3 = np.median(data[10:])\n",
    "print(Q3,'\\n')\n",
    "\n",
    "IQR = Q3-Q1\n",
    "print(\"IQR = Q3-Q1 =\",IQR)"
   ]
  },
  {
   "cell_type": "markdown",
   "id": "92a54f0d",
   "metadata": {},
   "source": [
    "# #2.10"
   ]
  },
  {
   "cell_type": "code",
   "execution_count": 19,
   "id": "8c9d0e30",
   "metadata": {},
   "outputs": [
    {
     "data": {
      "text/plain": [
       "array([2., 4., 6.])"
      ]
     },
     "execution_count": 19,
     "metadata": {},
     "output_type": "execute_result"
    }
   ],
   "source": [
    "a=np.array([1.0,2.0,3.0])\n",
    "b=np.array([2.0,2.0,2.0])\n",
    "\n",
    "a*b"
   ]
  },
  {
   "cell_type": "code",
   "execution_count": 21,
   "id": "1c026e47",
   "metadata": {},
   "outputs": [
    {
     "data": {
      "text/plain": [
       "array([3., 4., 5.])"
      ]
     },
     "execution_count": 21,
     "metadata": {},
     "output_type": "execute_result"
    }
   ],
   "source": [
    "a=np.array([1.0,2.0,3.0])\n",
    "b=2.0\n",
    "a+b"
   ]
  },
  {
   "cell_type": "code",
   "execution_count": 22,
   "id": "4fb85cc4",
   "metadata": {},
   "outputs": [
    {
     "data": {
      "text/plain": [
       "array([  222.,  4482., 70490.])"
      ]
     },
     "execution_count": 22,
     "metadata": {},
     "output_type": "execute_result"
    }
   ],
   "source": [
    "a=np.array([111.0,2241.0,35245.0])\n",
    "b=np.array([2.0,2.0,2.0])\n",
    "a*b"
   ]
  },
  {
   "cell_type": "code",
   "execution_count": 23,
   "id": "941c2634",
   "metadata": {},
   "outputs": [
    {
     "data": {
      "text/plain": [
       "array([2.83347311e+13, 4.75477457e+09, 7.51059230e+09])"
      ]
     },
     "execution_count": 23,
     "metadata": {},
     "output_type": "execute_result"
    }
   ],
   "source": [
    "a=np.array([111222.0,2231241.0,3524445.0])\n",
    "b=np.array([254758331.0,2131.0,2131.0])\n",
    "a*b"
   ]
  },
  {
   "cell_type": "markdown",
   "id": "cac6084a",
   "metadata": {},
   "source": [
    "## calculate bmi"
   ]
  },
  {
   "cell_type": "code",
   "execution_count": 6,
   "id": "f4f76dec",
   "metadata": {},
   "outputs": [
    {
     "data": {
      "text/plain": [
       "array([1.4945, 1.1025, 0.49  , 1.911 , 0.98  , 0.539 , 1.274 , 1.8375,\n",
       "       1.0535, 1.029 , 1.1515])"
      ]
     },
     "execution_count": 6,
     "metadata": {},
     "output_type": "execute_result"
    }
   ],
   "source": [
    "#heights of players \n",
    "\n",
    "hg_in = [61,45,20,78,40,22,52,75,43,42,47]\n",
    "#convert into num\n",
    "\n",
    "ht_np = np.array(hg_in)\n",
    "\n",
    "#convert height from inch to meter by exposing it to .0245\n",
    "ht_np = ht_np*.0245\n",
    "\n",
    "ht_np"
   ]
  },
  {
   "cell_type": "code",
   "execution_count": 8,
   "id": "5e0cdd17",
   "metadata": {},
   "outputs": [
    {
     "data": {
      "text/plain": [
       "array([31.5 , 45.  , 22.5 , 29.25, 33.75, 27.  , 33.75,  4.5 , 29.25,\n",
       "       40.5 , 24.75])"
      ]
     },
     "execution_count": 8,
     "metadata": {},
     "output_type": "execute_result"
    }
   ],
   "source": [
    "#weight of players\n",
    "\n",
    "wt_pd = [70,100,50,65,75,60,75,10,65,90,55]\n",
    "#convert into in array\n",
    "wt_pd = np.array(wt_pd)\n",
    "\n",
    "#convert weight 0.45\n",
    "\n",
    "wt_np = wt_pd*0.45\n",
    "\n",
    "wt_np\n",
    "\n",
    "\n",
    "\n"
   ]
  },
  {
   "cell_type": "code",
   "execution_count": 9,
   "id": "2380c24d",
   "metadata": {},
   "outputs": [
    {
     "data": {
      "text/plain": [
       "array([14.10323411, 37.02161137, 93.71095377,  8.00948323, 35.14160766,\n",
       "       92.93648308, 20.79385069,  1.33277801, 26.35462194, 38.24936889,\n",
       "       18.66583054])"
      ]
     },
     "execution_count": 9,
     "metadata": {},
     "output_type": "execute_result"
    }
   ],
   "source": [
    "#bmi calculation\n",
    "BMI=wt_np/(ht_np**2)\n",
    "BMI"
   ]
  },
  {
   "cell_type": "code",
   "execution_count": 10,
   "id": "afa326a8",
   "metadata": {},
   "outputs": [
    {
     "data": {
      "text/plain": [
       "array([ 42.15456674,  81.63265306,  91.83673469,  30.6122449 ,\n",
       "        68.87755102, 100.18552876,  52.98273155,   4.89795918,\n",
       "        55.52918842,  78.71720117,  42.98740773])"
      ]
     },
     "execution_count": 10,
     "metadata": {},
     "output_type": "execute_result"
    }
   ],
   "source": [
    "#bmi calculation\n",
    "BMI=wt_np/(ht_np/2)\n",
    "BMI"
   ]
  },
  {
   "cell_type": "code",
   "execution_count": 11,
   "id": "ece0d87e",
   "metadata": {},
   "outputs": [
    {
     "data": {
      "text/plain": [
       "42.98740772904907"
      ]
     },
     "execution_count": 11,
     "metadata": {},
     "output_type": "execute_result"
    }
   ],
   "source": [
    "BMI[-1]"
   ]
  },
  {
   "cell_type": "code",
   "execution_count": 12,
   "id": "05cbbb48",
   "metadata": {},
   "outputs": [
    {
     "data": {
      "text/plain": [
       "array([4.89795918])"
      ]
     },
     "execution_count": 12,
     "metadata": {},
     "output_type": "execute_result"
    }
   ],
   "source": [
    "BMI[BMI<21]"
   ]
  },
  {
   "cell_type": "code",
   "execution_count": 15,
   "id": "73471a18",
   "metadata": {},
   "outputs": [
    {
     "data": {
      "text/plain": [
       "array([[ 70.    , 100.    ,  50.    ,  65.    ,  75.    ,  60.    ,\n",
       "         75.    ,  10.    ,  65.    ,  90.    ,  55.    ],\n",
       "       [  1.4945,   1.1025,   0.49  ,   1.911 ,   0.98  ,   0.539 ,\n",
       "          1.274 ,   1.8375,   1.0535,   1.029 ,   1.1515]])"
      ]
     },
     "execution_count": 15,
     "metadata": {},
     "output_type": "execute_result"
    }
   ],
   "source": [
    "players = np.array([wt_pd,ht_np])\n",
    "players\n"
   ]
  },
  {
   "cell_type": "code",
   "execution_count": 20,
   "id": "741a0de7",
   "metadata": {},
   "outputs": [
    {
     "data": {
      "text/plain": [
       "60.0"
      ]
     },
     "execution_count": 20,
     "metadata": {},
     "output_type": "execute_result"
    }
   ],
   "source": [
    "players[0][5]"
   ]
  },
  {
   "cell_type": "code",
   "execution_count": 22,
   "id": "165e6fe0",
   "metadata": {},
   "outputs": [
    {
     "data": {
      "text/plain": [
       "0.49"
      ]
     },
     "execution_count": 22,
     "metadata": {},
     "output_type": "execute_result"
    }
   ],
   "source": [
    "players[1][2]"
   ]
  },
  {
   "cell_type": "code",
   "execution_count": 23,
   "id": "884f5cde",
   "metadata": {},
   "outputs": [
    {
     "data": {
      "text/plain": [
       "array([1.4945, 1.1025, 0.49  , 1.911 , 0.98  , 0.539 , 1.274 , 1.8375,\n",
       "       1.0535, 1.029 , 1.1515])"
      ]
     },
     "execution_count": 23,
     "metadata": {},
     "output_type": "execute_result"
    }
   ],
   "source": [
    "players[1]"
   ]
  },
  {
   "cell_type": "code",
   "execution_count": 29,
   "id": "6169fdbb",
   "metadata": {},
   "outputs": [
    {
     "data": {
      "text/plain": [
       "array([[ 70.    ,   1.4945],\n",
       "       [100.    ,   1.1025],\n",
       "       [ 50.    ,   0.49  ],\n",
       "       [ 65.    ,   1.911 ],\n",
       "       [ 75.    ,   0.98  ],\n",
       "       [ 60.    ,   0.539 ],\n",
       "       [ 75.    ,   1.274 ],\n",
       "       [ 10.    ,   1.8375],\n",
       "       [ 65.    ,   1.0535],\n",
       "       [ 90.    ,   1.029 ],\n",
       "       [ 55.    ,   1.1515]])"
      ]
     },
     "execution_count": 29,
     "metadata": {},
     "output_type": "execute_result"
    }
   ],
   "source": [
    "#teamspase\n",
    "\n",
    "pT = players.transpose()\n",
    "pT"
   ]
  },
  {
   "cell_type": "code",
   "execution_count": 31,
   "id": "80086ffe",
   "metadata": {},
   "outputs": [
    {
     "data": {
      "text/plain": [
       "(11, 2)"
      ]
     },
     "execution_count": 31,
     "metadata": {},
     "output_type": "execute_result"
    }
   ],
   "source": [
    "pT.shape"
   ]
  },
  {
   "cell_type": "code",
   "execution_count": 43,
   "id": "fc1bbb3b",
   "metadata": {},
   "outputs": [
    {
     "name": "stdout",
     "output_type": "stream",
     "text": [
      "29.25\n",
      "29.25\n",
      "321.75\n",
      "10.016463720023422\n",
      "[[ 1.         -0.26799232]\n",
      " [-0.26799232  1.        ]]\n"
     ]
    }
   ],
   "source": [
    "#stastical and mathematical function on player data\n",
    "\n",
    "print(np.mean(wt_np))\n",
    "\n",
    "print(np.median(wt_np))\n",
    "\n",
    "print(np.sum(wt_np))\n",
    "\n",
    "print(np.std(wt_np))\n",
    "\n",
    "print(np.corrcoef(wt_np ,ht_np))"
   ]
  },
  {
   "cell_type": "markdown",
   "id": "d40ca41a",
   "metadata": {},
   "source": [
    "# #homework find the volume of our degree bulding"
   ]
  },
  {
   "cell_type": "code",
   "execution_count": 1,
   "id": "a2ee5a9a",
   "metadata": {},
   "outputs": [
    {
     "data": {
      "text/plain": [
       "array([61, 45, 20, 78, 40, 22, 52, 75, 43, 42, 47])"
      ]
     },
     "execution_count": 1,
     "metadata": {},
     "output_type": "execute_result"
    }
   ],
   "source": [
    "#length of classroom \n",
    "import numpy as np\n",
    "len_m = [61,45,20,78,40,22,52,75,43,42,47]\n",
    "#convert into num\n",
    "\n",
    "len_np = np.array(len_m)\n",
    "\n",
    "\n",
    "len_np"
   ]
  },
  {
   "cell_type": "code",
   "execution_count": 3,
   "id": "a72d2336",
   "metadata": {},
   "outputs": [
    {
     "data": {
      "text/plain": [
       "array([11, 25, 20, 78, 30, 22, 52, 45, 43, 42, 47])"
      ]
     },
     "execution_count": 3,
     "metadata": {},
     "output_type": "execute_result"
    }
   ],
   "source": [
    "#width of classroom \n",
    "wid_m = [11,25,20,78,30,22,52,45,43,42,47]\n",
    "#convert into num\n",
    "\n",
    "wid_np = np.array(wid_m)\n",
    "\n",
    "\n",
    "wid_np"
   ]
  },
  {
   "cell_type": "code",
   "execution_count": 5,
   "id": "a64984e9",
   "metadata": {},
   "outputs": [
    {
     "data": {
      "text/plain": [
       "array([11, 25, 20, 78, 30, 22, 52, 45, 43, 42, 47])"
      ]
     },
     "execution_count": 5,
     "metadata": {},
     "output_type": "execute_result"
    }
   ],
   "source": [
    "#height of classroom \n",
    "ht_m = [11,25,20,78,30,22,52,45,43,42,47]\n",
    "#convert into num\n",
    "\n",
    "ht_np = np.array(ht_m)\n",
    "\n",
    "\n",
    "ht_np"
   ]
  },
  {
   "cell_type": "code",
   "execution_count": 8,
   "id": "2ba96bfe",
   "metadata": {},
   "outputs": [
    {
     "data": {
      "text/plain": [
       "array([  7381,  28125,   8000, 474552,  36000,  10648, 140608, 151875,\n",
       "        79507,  74088, 103823])"
      ]
     },
     "execution_count": 8,
     "metadata": {},
     "output_type": "execute_result"
    }
   ],
   "source": [
    "#volume of classroom is\n",
    "\n",
    "volume = len_np*wid_np*ht_np\n",
    "volume"
   ]
  },
  {
   "cell_type": "markdown",
   "id": "5ae0d0b1",
   "metadata": {},
   "source": [
    "# #2homework find the volume of our degree bulding\n"
   ]
  },
  {
   "cell_type": "code",
   "execution_count": 7,
   "id": "62cc83c1",
   "metadata": {},
   "outputs": [
    {
     "data": {
      "text/plain": [
       "array([61, 25, 20, 78, 40, 62, 32, 75, 43, 42, 25])"
      ]
     },
     "execution_count": 7,
     "metadata": {},
     "output_type": "execute_result"
    }
   ],
   "source": [
    "#length of classroom \n",
    "import numpy as np\n",
    "len_m = [61,25,20,78,40,62,32,75,43,42,25]\n",
    "#convert into num\n",
    "\n",
    "len_np = np.array(len_m)\n",
    "\n",
    "\n",
    "len_np"
   ]
  },
  {
   "cell_type": "code",
   "execution_count": 8,
   "id": "6959789c",
   "metadata": {},
   "outputs": [
    {
     "data": {
      "text/plain": [
       "array([11, 25, 20, 78, 30, 22, 52, 45, 43, 42, 47])"
      ]
     },
     "execution_count": 8,
     "metadata": {},
     "output_type": "execute_result"
    }
   ],
   "source": [
    "#width of classroom \n",
    "wid_m = [11,25,20,78,30,22,52,45,43,42,47]\n",
    "#convert into num\n",
    "\n",
    "wid_np = np.array(wid_m)\n",
    "\n",
    "\n",
    "wid_np"
   ]
  },
  {
   "cell_type": "code",
   "execution_count": 9,
   "id": "f8a07ee4",
   "metadata": {},
   "outputs": [
    {
     "data": {
      "text/plain": [
       "array([11, 25, 20, 78, 30, 22, 52, 45, 43, 42, 47])"
      ]
     },
     "execution_count": 9,
     "metadata": {},
     "output_type": "execute_result"
    }
   ],
   "source": [
    "#height of classroom \n",
    "ht_m = [11,25,20,78,30,22,52,45,43,42,47]\n",
    "#convert into num\n",
    "\n",
    "ht_np = np.array(ht_m)\n",
    "\n",
    "\n",
    "ht_np"
   ]
  },
  {
   "cell_type": "code",
   "execution_count": null,
   "id": "56ac5502",
   "metadata": {},
   "outputs": [],
   "source": []
  },
  {
   "cell_type": "code",
   "execution_count": 10,
   "id": "eede23bd",
   "metadata": {},
   "outputs": [
    {
     "data": {
      "text/plain": [
       "array([  7381,  15625,   8000, 474552,  36000,  30008,  86528, 151875,\n",
       "        79507,  74088,  55225])"
      ]
     },
     "execution_count": 10,
     "metadata": {},
     "output_type": "execute_result"
    }
   ],
   "source": [
    "#volume of classroom is\n",
    "\n",
    "volume = len_np*wid_np*ht_np\n",
    "volume"
   ]
  },
  {
   "cell_type": "code",
   "execution_count": 32,
   "id": "a307fed3",
   "metadata": {},
   "outputs": [
    {
     "data": {
      "text/plain": [
       "array([ 83,  75,  60, 234, 100, 106, 136, 165, 129, 126, 119])"
      ]
     },
     "execution_count": 32,
     "metadata": {},
     "output_type": "execute_result"
    }
   ],
   "source": [
    "#length of classroom \n",
    "import numpy as np\n",
    "len_m = [61,25,20,78,40,62,32,75,43,42,25]\n",
    "#convert into num\n",
    "\n",
    "len_np = np.array(len_m)\n",
    "\n",
    "\n",
    "len_np\n",
    "\n",
    "#width of classroom \n",
    "wid_m = [11,25,20,78,30,22,52,45,43,42,47]\n",
    "#convert into num\n",
    "\n",
    "wid_np = np.array(wid_m)\n",
    "\n",
    "\n",
    "wid_np\n",
    "\n",
    "\n",
    "#height of classroom \n",
    "ht_m = [11,25,20,78,30,22,52,45,43,42,47]\n",
    "#convert into num\n",
    "\n",
    "ht_np = np.array(ht_m)\n",
    "\n",
    "\n",
    "ht_np\n",
    "\n",
    "#volume of classroom is\n",
    "volume = len_np+wid_np+ht_np\n",
    "volume"
   ]
  },
  {
   "cell_type": "code",
   "execution_count": 31,
   "id": "a363cd6a",
   "metadata": {},
   "outputs": [
    {
     "name": "stdout",
     "output_type": "stream",
     "text": [
      "45.72727272727273\n",
      "42.0\n",
      "503\n",
      "19.44732236343703\n",
      "[[1.         0.31258868]\n",
      " [0.31258868 1.        ]]\n"
     ]
    }
   ],
   "source": [
    "print(np.mean(len_np))\n",
    "\n",
    "print(np.median(len_np))\n",
    "\n",
    "print(np.sum(len_np))\n",
    "\n",
    "print(np.std(len_np))\n",
    "\n",
    "print(np.corrcoef(len_np ,ht_np))"
   ]
  },
  {
   "cell_type": "code",
   "execution_count": 34,
   "id": "5a5da394",
   "metadata": {},
   "outputs": [
    {
     "ename": "SyntaxError",
     "evalue": "invalid syntax (2989150523.py, line 1)",
     "output_type": "error",
     "traceback": [
      "\u001b[1;36m  Input \u001b[1;32mIn [34]\u001b[1;36m\u001b[0m\n\u001b[1;33m    4 variable\u001b[0m\n\u001b[1;37m      ^\u001b[0m\n\u001b[1;31mSyntaxError\u001b[0m\u001b[1;31m:\u001b[0m invalid syntax\n"
     ]
    }
   ],
   "source": [
    "4 variable\n",
    "string\"\n",
    "list[]\n",
    "tuple()\n",
    "array [][[],[]],([],[])\n",
    ","
   ]
  },
  {
   "cell_type": "code",
   "execution_count": null,
   "id": "2334b149",
   "metadata": {},
   "outputs": [],
   "source": []
  }
 ],
 "metadata": {
  "kernelspec": {
   "display_name": "Python 3 (ipykernel)",
   "language": "python",
   "name": "python3"
  },
  "language_info": {
   "codemirror_mode": {
    "name": "ipython",
    "version": 3
   },
   "file_extension": ".py",
   "mimetype": "text/x-python",
   "name": "python",
   "nbconvert_exporter": "python",
   "pygments_lexer": "ipython3",
   "version": "3.9.12"
  }
 },
 "nbformat": 4,
 "nbformat_minor": 5
}
